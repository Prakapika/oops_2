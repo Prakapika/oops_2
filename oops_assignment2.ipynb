{
 "cells": [
  {
   "cell_type": "code",
   "execution_count": 10,
   "id": "461d220d",
   "metadata": {},
   "outputs": [],
   "source": [
    "class Calculator:\n",
    "\n",
    "    def __init__(self,num1, num2):\n",
    "        self.num1 = num1\n",
    "        self.num2 = num2\n",
    "        \n",
    "    def add(self):\n",
    "        sum = self.num1 + self.num2\n",
    "        return sum\n",
    "    \n",
    "    def subtract(self):\n",
    "        minus = self.num1 - self.num2\n",
    "        return minus\n",
    "    \n",
    "    def multiply(self):\n",
    "        mul = self.num1 * self.num2\n",
    "        return mul\n",
    "    \n",
    "    def divide(self):\n",
    "        division = self.num1/self.num2\n",
    "        return division"
   ]
  },
  {
   "cell_type": "code",
   "execution_count": 16,
   "id": "e1c0b893",
   "metadata": {},
   "outputs": [],
   "source": [
    "calci = Calculator(94, 10)"
   ]
  },
  {
   "cell_type": "code",
   "execution_count": 17,
   "id": "443655e1",
   "metadata": {},
   "outputs": [
    {
     "data": {
      "text/plain": [
       "104"
      ]
     },
     "execution_count": 17,
     "metadata": {},
     "output_type": "execute_result"
    }
   ],
   "source": [
    "calci.add()"
   ]
  },
  {
   "cell_type": "code",
   "execution_count": 18,
   "id": "8ff7c2d3",
   "metadata": {},
   "outputs": [
    {
     "data": {
      "text/plain": [
       "84"
      ]
     },
     "execution_count": 18,
     "metadata": {},
     "output_type": "execute_result"
    }
   ],
   "source": [
    "calci.subtract()"
   ]
  },
  {
   "cell_type": "code",
   "execution_count": 19,
   "id": "90c8dff0",
   "metadata": {},
   "outputs": [
    {
     "data": {
      "text/plain": [
       "940"
      ]
     },
     "execution_count": 19,
     "metadata": {},
     "output_type": "execute_result"
    }
   ],
   "source": [
    "calci.multiply()"
   ]
  },
  {
   "cell_type": "code",
   "execution_count": 20,
   "id": "747ea0c8",
   "metadata": {},
   "outputs": [
    {
     "data": {
      "text/plain": [
       "9.4"
      ]
     },
     "execution_count": 20,
     "metadata": {},
     "output_type": "execute_result"
    }
   ],
   "source": [
    "calci.divide()"
   ]
  },
  {
   "cell_type": "code",
   "execution_count": null,
   "id": "926e570a",
   "metadata": {},
   "outputs": [],
   "source": []
  }
 ],
 "metadata": {
  "kernelspec": {
   "display_name": "Python 3 (ipykernel)",
   "language": "python",
   "name": "python3"
  },
  "language_info": {
   "codemirror_mode": {
    "name": "ipython",
    "version": 3
   },
   "file_extension": ".py",
   "mimetype": "text/x-python",
   "name": "python",
   "nbconvert_exporter": "python",
   "pygments_lexer": "ipython3",
   "version": "3.10.6"
  }
 },
 "nbformat": 4,
 "nbformat_minor": 5
}
